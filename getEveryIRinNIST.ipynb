{
 "cells": [
  {
   "cell_type": "code",
   "execution_count": 1,
   "id": "bdd445c2",
   "metadata": {},
   "outputs": [],
   "source": [
    "import pandas as pd\n",
    "import os\n",
    "import requests\n",
    "from bs4 import BeautifulSoup\n",
    "import urllib.request\n",
    "from scrapeIR import *\n"
   ]
  },
  {
   "cell_type": "code",
   "execution_count": 2,
   "id": "1b668a4b",
   "metadata": {},
   "outputs": [],
   "source": [
    "df = pd.read_csv('species.csv',sep='\\t')\n"
   ]
  },
  {
   "cell_type": "code",
   "execution_count": 3,
   "id": "0d774cd9",
   "metadata": {},
   "outputs": [],
   "source": [
    "df_dropnan = df.dropna()"
   ]
  },
  {
   "cell_type": "code",
   "execution_count": 4,
   "id": "cb24787e",
   "metadata": {},
   "outputs": [
    {
     "data": {
      "text/plain": [
       "217854"
      ]
     },
     "execution_count": 4,
     "metadata": {},
     "output_type": "execute_result"
    }
   ],
   "source": [
    "df.size"
   ]
  },
  {
   "cell_type": "code",
   "execution_count": 5,
   "id": "a52f2b64",
   "metadata": {},
   "outputs": [
    {
     "data": {
      "text/plain": [
       "133365"
      ]
     },
     "execution_count": 5,
     "metadata": {},
     "output_type": "execute_result"
    }
   ],
   "source": [
    "df_dropnan.size"
   ]
  },
  {
   "cell_type": "code",
   "execution_count": 6,
   "id": "f8575cc2",
   "metadata": {},
   "outputs": [
    {
     "name": "stdout",
     "output_type": "stream",
     "text": [
      "Benzene, 1-chloro-4-nitro-_IR_spectrum_1.jdx downloaded.\n",
      "Phenol, 4-nitro-_IR_spectrum_1.jdx downloaded.\n",
      "N-butyl chlorodimethyl silane_IR_spectrum_1.jdx downloaded.\n",
      "4-Acetylanisole_IR_spectrum_1.jdx downloaded.\n",
      "Benzaldehyde, 4-(dimethylamino)-_IR_spectrum_1.jdx downloaded.\n",
      "Benzene, 1-(chloromethyl)-4-nitro-_IR_spectrum_1.jdx downloaded.\n",
      "Benzene, 1,4-bis(1-methylethyl)-_IR_spectrum_1.jdx downloaded.\n",
      "Nitrous oxide_IR_spectrum_1.jdx downloaded.\n",
      "Silicon tetrachloride_IR_spectrum_1.jdx downloaded.\n",
      "Acetic acid, 2-ethylbutyl ester_IR_spectrum_1.jdx downloaded.\n",
      "N,N-Diethyl-2-aminoethanol_IR_spectrum_1.jdx downloaded.\n",
      "Cyclohexene, 4-ethenyl-_IR_spectrum_1.jdx downloaded.\n",
      "Ethylbenzene_IR_spectrum_1.jdx downloaded.\n",
      "Styrene_IR_spectrum_1.jdx downloaded.\n",
      "4-Cyanocyclohexene_IR_spectrum_1.jdx downloaded.\n",
      "Benzylamine_IR_spectrum_1.jdx downloaded.\n",
      "Benzonitrile_IR_spectrum_1.jdx downloaded.\n",
      "Cyclohexanemethanol_IR_spectrum_1.jdx downloaded.\n",
      "Benzyl alcohol_IR_spectrum_1.jdx downloaded.\n",
      "Benzaldehyde_IR_spectrum_1.jdx downloaded.\n",
      "3-Pyridinecarbonitrile_IR_spectrum_1.jdx downloaded.\n",
      "Cyclohexanamine, N-methyl-_IR_spectrum_1.jdx downloaded.\n",
      "1-Propene, 1,3-dichloro-, (Z)-_IR_spectrum_1.jdx downloaded.\n",
      "1-Propene, 1,3-dichloro-, (E)-_IR_spectrum_1.jdx downloaded.\n",
      "Aniline, N-methyl-_IR_spectrum_1.jdx downloaded.\n",
      "Cyclohexanone, oxime_IR_spectrum_1.jdx downloaded.\n",
      "2-Pyridinecarbonitrile_IR_spectrum_1.jdx downloaded.\n",
      "N-Ethylmorpholine_IR_spectrum_1.jdx downloaded.\n",
      "Benzenemethanamine, 3-fluoro-_IR_spectrum_1.jdx downloaded.\n",
      "Benzene, 1-methoxy-3-methyl-_IR_spectrum_1.jdx downloaded.\n",
      "2,2,4,4,6,6-Hexamethylcyclotrisilazane_IR_spectrum_1.jdx downloaded.\n",
      "Benzenamine, 4,4'-methylenebis[2-chloro-_IR_spectrum_1.jdx downloaded.\n",
      "Chlorpropham_IR_spectrum_1.jdx downloaded.\n",
      "Phosphonic acid, (carbamoylmethyl)-, dibenzyl ester_IR_spectrum_1.jdx downloaded.\n",
      "Butane, 1,1,3-trimethoxy-_IR_spectrum_1.jdx downloaded.\n",
      "Benzene, (2,2-dimethoxyethyl)-_IR_spectrum_1.jdx downloaded.\n",
      "Benzene, 1-bromo-4-phenoxy-_IR_spectrum_1.jdx downloaded.\n",
      "Benzenamine, 4,4'-methylenebis[N,N-dimethyl-_IR_spectrum_1.jdx downloaded.\n",
      "Benzenamine, 4-octyl-N-(4-octylphenyl)-_IR_spectrum_1.jdx downloaded.\n",
      "4,4'-Dimethoxydiphenylamine_IR_spectrum_1.jdx downloaded.\n",
      "1,4-Benzenediamine, N-(1-methylethyl)-N'-phenyl-_IR_spectrum_1.jdx downloaded.\n",
      "Benzenamine, 4,4'-methylenebis-_IR_spectrum_1.jdx downloaded.\n",
      "Diphenylmethane_IR_spectrum_1.jdx downloaded.\n",
      "Cyclohexanamine, N-cyclohexyl-_IR_spectrum_1.jdx downloaded.\n",
      "Diphenyl ether_IR_spectrum_1.jdx downloaded.\n",
      "Carbamic acid, phenyl-, ethyl ester_IR_spectrum_1.jdx downloaded.\n",
      "2-Dodecanol_IR_spectrum_1.jdx downloaded.\n",
      "Diethyl isobutylmalonate_IR_spectrum_1.jdx downloaded.\n",
      "Benzene, 1,3,5-triethyl-_IR_spectrum_1.jdx downloaded.\n",
      "Resorcinol monoacetate_IR_spectrum_1.jdx downloaded.\n",
      "Glycerol 1,2-diacetate_IR_spectrum_1.jdx downloaded.\n",
      "2-Propen-1-amine, N,N-di-2-propenyl-_IR_spectrum_1.jdx downloaded.\n",
      "Triethanolamine_IR_spectrum_1.jdx downloaded.\n",
      "Triacetin_IR_spectrum_1.jdx downloaded.\n",
      "Phosphorous acid, tributyl ester_IR_spectrum_1.jdx downloaded.\n",
      "Tetramethylene chloroiodide_IR_spectrum_1.jdx downloaded.\n",
      "2-Nonanol, 5-ethyl-_IR_spectrum_1.jdx downloaded.\n",
      "Acetic acid, 2-ethylhexyl ester_IR_spectrum_1.jdx downloaded.\n",
      "Disulfide, bis(4-methylphenyl)_IR_spectrum_1.jdx downloaded.\n",
      "Hexanedioic acid, bis(2-ethylhexyl) ester_IR_spectrum_1.jdx downloaded.\n",
      "Nonanedioic acid, bis(2-ethylhexyl) ester_IR_spectrum_1.jdx downloaded.\n",
      "2H-3,1-Benzoxazine-2,4(1H)-dione, 1-methyl-_IR_spectrum_1.jdx downloaded.\n",
      "(E)-Stilbene_IR_spectrum_1.jdx downloaded.\n",
      "Benzenemethanamine, N-phenyl-_IR_spectrum_1.jdx downloaded.\n",
      "Azobenzene_IR_spectrum_1.jdx downloaded.\n",
      "Dibenzyl succinate_IR_spectrum_1.jdx downloaded.\n",
      "Acetic acid, 2-phenylethyl ester_IR_spectrum_1.jdx downloaded.\n",
      "Dibenzylamine_IR_spectrum_1.jdx downloaded.\n",
      "5H-Dibenzo(a,d)cyclohepten-5-ol_IR_spectrum_1.jdx downloaded.\n",
      "Benzene, (2-bromoethyl)-_IR_spectrum_1.jdx downloaded.\n",
      "Benzene, (2-bromoethenyl)-_IR_spectrum_1.jdx downloaded.\n",
      "Benzene, propyl-_IR_spectrum_1.jdx downloaded.\n",
      "Benzenemethanamine, N-methyl-_IR_spectrum_1.jdx downloaded.\n",
      "Benzenamine, N-ethyl-_IR_spectrum_1.jdx downloaded.\n",
      "Benzene, isocyanato-_IR_spectrum_1.jdx downloaded.\n",
      "Benzene, isothiocyanato-_IR_spectrum_1.jdx downloaded.\n",
      "Benzene, ethoxy-_IR_spectrum_1.jdx downloaded.\n",
      "Benzeneacetamide_IR_spectrum_1.jdx downloaded.\n",
      "Benzeneacetic acid_IR_spectrum_1.jdx downloaded.\n",
      "Benzenemethanamine, N,N-dimethyl-_IR_spectrum_1.jdx downloaded.\n",
      "Acetamide, N-phenyl-_IR_spectrum_1.jdx downloaded.\n",
      "Alpha,alpha,alpha,alpha',alpha',alpha'-2-heptachloro-p-xylene_IR_spectrum_1.jdx downloaded.\n",
      "Acetaminophen_IR_spectrum_1.jdx downloaded.\n",
      "1,4-Benzenediamine, N,N'-bis(1-methylheptyl)-_IR_spectrum_1.jdx downloaded.\n",
      "5-Oxohexanenitrile_IR_spectrum_1.jdx downloaded.\n",
      "Benzenemethanol, 4-methoxy-, acetate_IR_spectrum_1.jdx downloaded.\n"
     ]
    },
    {
     "ename": "KeyboardInterrupt",
     "evalue": "",
     "output_type": "error",
     "traceback": [
      "\u001b[0;31m---------------------------------------------------------------------------\u001b[0m",
      "\u001b[0;31mKeyboardInterrupt\u001b[0m                         Traceback (most recent call last)",
      "Cell \u001b[0;32mIn[6], line 2\u001b[0m\n\u001b[1;32m      1\u001b[0m \u001b[38;5;28;01mfor\u001b[39;00m i \u001b[38;5;129;01min\u001b[39;00m df_dropnan\u001b[38;5;241m.\u001b[39mCAS:\n\u001b[0;32m----> 2\u001b[0m     \u001b[43mdownload_IR_spectrum\u001b[49m\u001b[43m(\u001b[49m\u001b[43mi\u001b[49m\u001b[43m)\u001b[49m\n",
      "File \u001b[0;32m~/Documents/Coding Work UMBC/Ench670/Projects/FTIR identification/FTIRimageAnalysisProject/scrapeIR.py:43\u001b[0m, in \u001b[0;36mdownload_IR_spectrum\u001b[0;34m(cas_number)\u001b[0m\n\u001b[1;32m     40\u001b[0m page \u001b[38;5;241m=\u001b[39m requests\u001b[38;5;241m.\u001b[39mget(url)\n\u001b[1;32m     42\u001b[0m \u001b[38;5;66;03m# Parse the page content using BeautifulSoup\u001b[39;00m\n\u001b[0;32m---> 43\u001b[0m soup \u001b[38;5;241m=\u001b[39m \u001b[43mBeautifulSoup\u001b[49m\u001b[43m(\u001b[49m\u001b[43mpage\u001b[49m\u001b[38;5;241;43m.\u001b[39;49m\u001b[43mtext\u001b[49m\u001b[43m,\u001b[49m\u001b[43m \u001b[49m\u001b[38;5;124;43m'\u001b[39;49m\u001b[38;5;124;43mhtml.parser\u001b[39;49m\u001b[38;5;124;43m'\u001b[39;49m\u001b[43m)\u001b[49m\n\u001b[1;32m     45\u001b[0m \u001b[38;5;66;03m# Extract the chemical name from the page title\u001b[39;00m\n\u001b[1;32m     46\u001b[0m title \u001b[38;5;241m=\u001b[39m soup\u001b[38;5;241m.\u001b[39mtitle\u001b[38;5;241m.\u001b[39mstring\n",
      "File \u001b[0;32m~/opt/anaconda3/envs/ENCH670/lib/python3.9/site-packages/bs4/__init__.py:333\u001b[0m, in \u001b[0;36mBeautifulSoup.__init__\u001b[0;34m(self, markup, features, builder, parse_only, from_encoding, exclude_encodings, element_classes, **kwargs)\u001b[0m\n\u001b[1;32m    331\u001b[0m \u001b[38;5;28mself\u001b[39m\u001b[38;5;241m.\u001b[39mbuilder\u001b[38;5;241m.\u001b[39minitialize_soup(\u001b[38;5;28mself\u001b[39m)\n\u001b[1;32m    332\u001b[0m \u001b[38;5;28;01mtry\u001b[39;00m:\n\u001b[0;32m--> 333\u001b[0m     \u001b[38;5;28;43mself\u001b[39;49m\u001b[38;5;241;43m.\u001b[39;49m\u001b[43m_feed\u001b[49m\u001b[43m(\u001b[49m\u001b[43m)\u001b[49m\n\u001b[1;32m    334\u001b[0m     success \u001b[38;5;241m=\u001b[39m \u001b[38;5;28;01mTrue\u001b[39;00m\n\u001b[1;32m    335\u001b[0m     \u001b[38;5;28;01mbreak\u001b[39;00m\n",
      "File \u001b[0;32m~/opt/anaconda3/envs/ENCH670/lib/python3.9/site-packages/bs4/__init__.py:451\u001b[0m, in \u001b[0;36mBeautifulSoup._feed\u001b[0;34m(self)\u001b[0m\n\u001b[1;32m    448\u001b[0m \u001b[38;5;66;03m# Convert the document to Unicode.\u001b[39;00m\n\u001b[1;32m    449\u001b[0m \u001b[38;5;28mself\u001b[39m\u001b[38;5;241m.\u001b[39mbuilder\u001b[38;5;241m.\u001b[39mreset()\n\u001b[0;32m--> 451\u001b[0m \u001b[38;5;28;43mself\u001b[39;49m\u001b[38;5;241;43m.\u001b[39;49m\u001b[43mbuilder\u001b[49m\u001b[38;5;241;43m.\u001b[39;49m\u001b[43mfeed\u001b[49m\u001b[43m(\u001b[49m\u001b[38;5;28;43mself\u001b[39;49m\u001b[38;5;241;43m.\u001b[39;49m\u001b[43mmarkup\u001b[49m\u001b[43m)\u001b[49m\n\u001b[1;32m    452\u001b[0m \u001b[38;5;66;03m# Close out any unfinished strings and close all the open tags.\u001b[39;00m\n\u001b[1;32m    453\u001b[0m \u001b[38;5;28mself\u001b[39m\u001b[38;5;241m.\u001b[39mendData()\n",
      "File \u001b[0;32m~/opt/anaconda3/envs/ENCH670/lib/python3.9/site-packages/bs4/builder/_htmlparser.py:399\u001b[0m, in \u001b[0;36mHTMLParserTreeBuilder.feed\u001b[0;34m(self, markup)\u001b[0m\n\u001b[1;32m    397\u001b[0m parser\u001b[38;5;241m.\u001b[39msoup \u001b[38;5;241m=\u001b[39m \u001b[38;5;28mself\u001b[39m\u001b[38;5;241m.\u001b[39msoup\n\u001b[1;32m    398\u001b[0m \u001b[38;5;28;01mtry\u001b[39;00m:\n\u001b[0;32m--> 399\u001b[0m     \u001b[43mparser\u001b[49m\u001b[38;5;241;43m.\u001b[39;49m\u001b[43mfeed\u001b[49m\u001b[43m(\u001b[49m\u001b[43mmarkup\u001b[49m\u001b[43m)\u001b[49m\n\u001b[1;32m    400\u001b[0m     parser\u001b[38;5;241m.\u001b[39mclose()\n\u001b[1;32m    401\u001b[0m \u001b[38;5;28;01mexcept\u001b[39;00m HTMLParseError \u001b[38;5;28;01mas\u001b[39;00m e:\n",
      "File \u001b[0;32m~/opt/anaconda3/envs/ENCH670/lib/python3.9/html/parser.py:110\u001b[0m, in \u001b[0;36mHTMLParser.feed\u001b[0;34m(self, data)\u001b[0m\n\u001b[1;32m    104\u001b[0m \u001b[38;5;124mr\u001b[39m\u001b[38;5;124;03m\"\"\"Feed data to the parser.\u001b[39;00m\n\u001b[1;32m    105\u001b[0m \n\u001b[1;32m    106\u001b[0m \u001b[38;5;124;03mCall this as often as you want, with as little or as much text\u001b[39;00m\n\u001b[1;32m    107\u001b[0m \u001b[38;5;124;03mas you want (may include '\\n').\u001b[39;00m\n\u001b[1;32m    108\u001b[0m \u001b[38;5;124;03m\"\"\"\u001b[39;00m\n\u001b[1;32m    109\u001b[0m \u001b[38;5;28mself\u001b[39m\u001b[38;5;241m.\u001b[39mrawdata \u001b[38;5;241m=\u001b[39m \u001b[38;5;28mself\u001b[39m\u001b[38;5;241m.\u001b[39mrawdata \u001b[38;5;241m+\u001b[39m data\n\u001b[0;32m--> 110\u001b[0m \u001b[38;5;28;43mself\u001b[39;49m\u001b[38;5;241;43m.\u001b[39;49m\u001b[43mgoahead\u001b[49m\u001b[43m(\u001b[49m\u001b[38;5;241;43m0\u001b[39;49m\u001b[43m)\u001b[49m\n",
      "File \u001b[0;32m~/opt/anaconda3/envs/ENCH670/lib/python3.9/html/parser.py:170\u001b[0m, in \u001b[0;36mHTMLParser.goahead\u001b[0;34m(self, end)\u001b[0m\n\u001b[1;32m    168\u001b[0m \u001b[38;5;28;01mif\u001b[39;00m startswith(\u001b[38;5;124m'\u001b[39m\u001b[38;5;124m<\u001b[39m\u001b[38;5;124m'\u001b[39m, i):\n\u001b[1;32m    169\u001b[0m     \u001b[38;5;28;01mif\u001b[39;00m starttagopen\u001b[38;5;241m.\u001b[39mmatch(rawdata, i): \u001b[38;5;66;03m# < + letter\u001b[39;00m\n\u001b[0;32m--> 170\u001b[0m         k \u001b[38;5;241m=\u001b[39m \u001b[38;5;28;43mself\u001b[39;49m\u001b[38;5;241;43m.\u001b[39;49m\u001b[43mparse_starttag\u001b[49m\u001b[43m(\u001b[49m\u001b[43mi\u001b[49m\u001b[43m)\u001b[49m\n\u001b[1;32m    171\u001b[0m     \u001b[38;5;28;01melif\u001b[39;00m startswith(\u001b[38;5;124m\"\u001b[39m\u001b[38;5;124m</\u001b[39m\u001b[38;5;124m\"\u001b[39m, i):\n\u001b[1;32m    172\u001b[0m         k \u001b[38;5;241m=\u001b[39m \u001b[38;5;28mself\u001b[39m\u001b[38;5;241m.\u001b[39mparse_endtag(i)\n",
      "File \u001b[0;32m~/opt/anaconda3/envs/ENCH670/lib/python3.9/html/parser.py:315\u001b[0m, in \u001b[0;36mHTMLParser.parse_starttag\u001b[0;34m(self, i)\u001b[0m\n\u001b[1;32m    313\u001b[0m \u001b[38;5;28mself\u001b[39m\u001b[38;5;241m.\u001b[39mlasttag \u001b[38;5;241m=\u001b[39m tag \u001b[38;5;241m=\u001b[39m match\u001b[38;5;241m.\u001b[39mgroup(\u001b[38;5;241m1\u001b[39m)\u001b[38;5;241m.\u001b[39mlower()\n\u001b[1;32m    314\u001b[0m \u001b[38;5;28;01mwhile\u001b[39;00m k \u001b[38;5;241m<\u001b[39m endpos:\n\u001b[0;32m--> 315\u001b[0m     m \u001b[38;5;241m=\u001b[39m \u001b[43mattrfind_tolerant\u001b[49m\u001b[38;5;241;43m.\u001b[39;49m\u001b[43mmatch\u001b[49m\u001b[43m(\u001b[49m\u001b[43mrawdata\u001b[49m\u001b[43m,\u001b[49m\u001b[43m \u001b[49m\u001b[43mk\u001b[49m\u001b[43m)\u001b[49m\n\u001b[1;32m    316\u001b[0m     \u001b[38;5;28;01mif\u001b[39;00m \u001b[38;5;129;01mnot\u001b[39;00m m:\n\u001b[1;32m    317\u001b[0m         \u001b[38;5;28;01mbreak\u001b[39;00m\n",
      "\u001b[0;31mKeyboardInterrupt\u001b[0m: "
     ]
    }
   ],
   "source": [
    "for i in df_dropnan.CAS:\n",
    "    download_IR_spectrum(i)"
   ]
  },
  {
   "cell_type": "code",
   "execution_count": null,
   "id": "7180a31e",
   "metadata": {},
   "outputs": [],
   "source": []
  }
 ],
 "metadata": {
  "kernelspec": {
   "display_name": "Python 3 (ipykernel)",
   "language": "python",
   "name": "python3"
  },
  "language_info": {
   "codemirror_mode": {
    "name": "ipython",
    "version": 3
   },
   "file_extension": ".py",
   "mimetype": "text/x-python",
   "name": "python",
   "nbconvert_exporter": "python",
   "pygments_lexer": "ipython3",
   "version": "3.9.16"
  }
 },
 "nbformat": 4,
 "nbformat_minor": 5
}
