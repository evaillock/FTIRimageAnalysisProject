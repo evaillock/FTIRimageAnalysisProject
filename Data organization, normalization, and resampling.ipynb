{
 "cells": [
  {
   "cell_type": "code",
   "execution_count": 7,
   "id": "b32139a9",
   "metadata": {},
   "outputs": [],
   "source": [
    "import jcamp\n",
    "import glob\n",
    "import os\n",
    "import numpy as np\n",
    "import pandas as pd\n",
    "import pubchempy as pcp\n",
    "from getInchi import getInchi\n",
    "import matplotlib.pyplot as plt"
   ]
  },
  {
   "cell_type": "code",
   "execution_count": 8,
   "id": "16c63fcd",
   "metadata": {},
   "outputs": [],
   "source": [
    "path = os.path.join(os.getcwd(), 'scrapedFTIR', 'ir','goodUnits')\n",
    "    \n",
    "extension = 'jdx'\n",
    "all_files = glob.glob(os.path.join(path, \"*.jdx\"))\n",
    "\n",
    "parsedJcamps = []\n",
    "for file in all_files:\n",
    "    parsedJcamps.append(jcamp.jcamp_readfile(file))"
   ]
  },
  {
   "cell_type": "code",
   "execution_count": 9,
   "id": "ea71ceeb",
   "metadata": {},
   "outputs": [],
   "source": [
    "#create dataframe holding all of the parsed jcamps\n",
    "df = pd.DataFrame({'jcamp': parsedJcamps})"
   ]
  },
  {
   "cell_type": "code",
   "execution_count": 10,
   "id": "21702397",
   "metadata": {},
   "outputs": [],
   "source": [
    "#add x arrays to dataframe\n",
    "x_list = []\n",
    "for i in df.jcamp:\n",
    "    x_list.append(i['x'])\n",
    "df['x'] = x_list\n",
    "#add y values to dataframe\n",
    "y_list = []\n",
    "for i in df.jcamp:\n",
    "    y_list.append(i['y'])\n",
    "df['y'] = y_list"
   ]
  },
  {
   "cell_type": "code",
   "execution_count": 15,
   "id": "52fc12ff",
   "metadata": {},
   "outputs": [
    {
     "data": {
      "text/plain": [
       "550.0"
      ]
     },
     "execution_count": 15,
     "metadata": {},
     "output_type": "execute_result"
    }
   ],
   "source": [
    "df.x[0][0]"
   ]
  },
  {
   "cell_type": "code",
   "execution_count": 16,
   "id": "c36bd8e3",
   "metadata": {},
   "outputs": [],
   "source": [
    "# define the new x values you want to resample to\n",
    "new_x = np.linspace(555, 3846, num=880)\n",
    "\n",
    "#add new x values to dataframe\n",
    "new_x_list = []\n",
    "for i in range(0,len(df)):\n",
    "    new_x_list.append(new_x)\n",
    "df['x_'] = new_x_list\n",
    "# use numpy's interp function to interpolate the y values based on the new x values\n",
    "y_ = []\n",
    "for i in range(0,len(df)):\n",
    "    y_.append(np.interp(new_x,df.x[i],df.y[i]))\n",
    "#add new y to dataframe\n",
    "df['y_'] = y_"
   ]
  },
  {
   "cell_type": "code",
   "execution_count": 17,
   "id": "91fc30ac",
   "metadata": {},
   "outputs": [
    {
     "data": {
      "text/plain": [
       "555.0"
      ]
     },
     "execution_count": 17,
     "metadata": {},
     "output_type": "execute_result"
    }
   ],
   "source": [
    "df.x_[0][0]"
   ]
  },
  {
   "cell_type": "code",
   "execution_count": 18,
   "id": "6c5f6a25",
   "metadata": {},
   "outputs": [],
   "source": [
    "#space to store inchi keys\n",
    "inchi_keys = []\n",
    "#get an inchi key for each molecule\n",
    "for i in df.jcamp:\n",
    "    try:\n",
    "        inchi_keys.append(getInchi(i['cas registry no']))\n",
    "    except:\n",
    "        inchi_keys.append('')"
   ]
  },
  {
   "cell_type": "code",
   "execution_count": 19,
   "id": "72289c5c",
   "metadata": {},
   "outputs": [
    {
     "name": "stdout",
     "output_type": "stream",
     "text": [
      "444\n",
      "LRZGRGVRZSDRTK-UHFFFAOYSA-N\n"
     ]
    }
   ],
   "source": [
    "print(inchi_keys.count(''))\n",
    "print(inchi_keys[576])"
   ]
  },
  {
   "cell_type": "code",
   "execution_count": 20,
   "id": "16a1d042",
   "metadata": {},
   "outputs": [],
   "source": [
    "#space to store smiles strings\n",
    "smiles = []\n",
    "#get a smile string for each molecule\n",
    "for inchi in inchi_keys:\n",
    "    try:\n",
    "        result = pcp.get_compounds(inchi,'inchikey')\n",
    "        smiles.append(result[0].canonical_smiles)\n",
    "    except:\n",
    "        smiles.append('')"
   ]
  },
  {
   "cell_type": "code",
   "execution_count": 24,
   "id": "b47fbe49",
   "metadata": {},
   "outputs": [
    {
     "data": {
      "text/plain": [
       "515"
      ]
     },
     "execution_count": 24,
     "metadata": {},
     "output_type": "execute_result"
    }
   ],
   "source": [
    "smiles.count('')"
   ]
  },
  {
   "cell_type": "code",
   "execution_count": 25,
   "id": "6bb6c1fb",
   "metadata": {},
   "outputs": [],
   "source": [
    "df['smiles']=smiles"
   ]
  },
  {
   "cell_type": "code",
   "execution_count": 26,
   "id": "fe6598d9",
   "metadata": {},
   "outputs": [
    {
     "data": {
      "text/plain": [
       "515"
      ]
     },
     "execution_count": 26,
     "metadata": {},
     "output_type": "execute_result"
    }
   ],
   "source": [
    "(df.smiles == '').sum()"
   ]
  },
  {
   "cell_type": "code",
   "execution_count": 56,
   "id": "9fc025f4",
   "metadata": {},
   "outputs": [],
   "source": [
    "df.to_csv('FTIRdataSet.csv', index=False)"
   ]
  },
  {
   "cell_type": "code",
   "execution_count": 61,
   "id": "1f74e818",
   "metadata": {},
   "outputs": [
    {
     "data": {
      "text/html": [
       "<div>\n",
       "<style scoped>\n",
       "    .dataframe tbody tr th:only-of-type {\n",
       "        vertical-align: middle;\n",
       "    }\n",
       "\n",
       "    .dataframe tbody tr th {\n",
       "        vertical-align: top;\n",
       "    }\n",
       "\n",
       "    .dataframe thead th {\n",
       "        text-align: right;\n",
       "    }\n",
       "</style>\n",
       "<table border=\"1\" class=\"dataframe\">\n",
       "  <thead>\n",
       "    <tr style=\"text-align: right;\">\n",
       "      <th></th>\n",
       "      <th>jcamp</th>\n",
       "      <th>x</th>\n",
       "      <th>y</th>\n",
       "      <th>x_</th>\n",
       "      <th>y_</th>\n",
       "      <th>smiles</th>\n",
       "    </tr>\n",
       "  </thead>\n",
       "  <tbody>\n",
       "    <tr>\n",
       "      <th>0</th>\n",
       "      <td>{'title': '4-Chlorophenyl phenyl ether', 'jcam...</td>\n",
       "      <td>[550.0, 554.0, 558.0, 562.0, 566.0, 570.0, 574...</td>\n",
       "      <td>[6.08e-05, 9.88e-05, 6.84e-05, 0.0, 1.52e-05, ...</td>\n",
       "      <td>[555.0, 558.7440273037543, 562.4880546075085, ...</td>\n",
       "      <td>[9.12e-05, 5.56771331058023e-05, 1.85460750853...</td>\n",
       "      <td>C1=CC=C(C=C1)OC2=CC=C(C=C2)Cl</td>\n",
       "    </tr>\n",
       "    <tr>\n",
       "      <th>1</th>\n",
       "      <td>{'title': '12-Chloro-5-dodecyne', 'jcamp-dx': ...</td>\n",
       "      <td>[550.0, 554.0, 558.0, 562.0, 566.0, 570.0, 574...</td>\n",
       "      <td>[0.0027632, 0.0011132, 7.04e-05, 0.0002816, 0....</td>\n",
       "      <td>[555.0, 558.7440273037543, 562.4880546075085, ...</td>\n",
       "      <td>[0.0008525, 0.00010968464163822446, 0.00026603...</td>\n",
       "      <td>CCCCC#CCCCCCCCl</td>\n",
       "    </tr>\n",
       "    <tr>\n",
       "      <th>2</th>\n",
       "      <td>{'title': '4,7-Dimethyl-4-octanol', 'jcamp-dx'...</td>\n",
       "      <td>[550.0, 554.0, 558.0, 562.0, 566.0, 570.0, 574...</td>\n",
       "      <td>[0.0005828, 0.0004371, 0.0001581, 7.13e-05, 6....</td>\n",
       "      <td>[555.0, 558.7440273037543, 562.4880546075085, ...</td>\n",
       "      <td>[0.00036735, 0.00014195460750853275, 7.0921757...</td>\n",
       "      <td>CCCC(C)(CCC(C)C)O</td>\n",
       "    </tr>\n",
       "    <tr>\n",
       "      <th>3</th>\n",
       "      <td>{'title': 'Carbonic acid, dimethyl ester', 'jc...</td>\n",
       "      <td>[450.0, 454.0, 458.0, 462.0, 466.0, 470.0, 474...</td>\n",
       "      <td>[0.026084575999999998, 0.008485343999999999, 0...</td>\n",
       "      <td>[555.0, 558.7440273037543, 562.4880546075085, ...</td>\n",
       "      <td>[0.001944558, 0.008181798006825915, 0.01348326...</td>\n",
       "      <td>COC(=O)OC</td>\n",
       "    </tr>\n",
       "    <tr>\n",
       "      <th>4</th>\n",
       "      <td>{'title': 'Hexane, 2-bromo-', 'jcamp-dx': 4.24...</td>\n",
       "      <td>[450.0, 454.0, 458.0, 462.0, 466.0, 470.0, 474...</td>\n",
       "      <td>[0.008516064, 0.007822896000000001, 0.00717924...</td>\n",
       "      <td>[555.0, 558.7440273037543, 562.4880546075085, ...</td>\n",
       "      <td>[0.02487978, 0.02097357047098977, 0.0191825625...</td>\n",
       "      <td>CCCCC(C)Br</td>\n",
       "    </tr>\n",
       "  </tbody>\n",
       "</table>\n",
       "</div>"
      ],
      "text/plain": [
       "                                               jcamp  \\\n",
       "0  {'title': '4-Chlorophenyl phenyl ether', 'jcam...   \n",
       "1  {'title': '12-Chloro-5-dodecyne', 'jcamp-dx': ...   \n",
       "2  {'title': '4,7-Dimethyl-4-octanol', 'jcamp-dx'...   \n",
       "3  {'title': 'Carbonic acid, dimethyl ester', 'jc...   \n",
       "4  {'title': 'Hexane, 2-bromo-', 'jcamp-dx': 4.24...   \n",
       "\n",
       "                                                   x  \\\n",
       "0  [550.0, 554.0, 558.0, 562.0, 566.0, 570.0, 574...   \n",
       "1  [550.0, 554.0, 558.0, 562.0, 566.0, 570.0, 574...   \n",
       "2  [550.0, 554.0, 558.0, 562.0, 566.0, 570.0, 574...   \n",
       "3  [450.0, 454.0, 458.0, 462.0, 466.0, 470.0, 474...   \n",
       "4  [450.0, 454.0, 458.0, 462.0, 466.0, 470.0, 474...   \n",
       "\n",
       "                                                   y  \\\n",
       "0  [6.08e-05, 9.88e-05, 6.84e-05, 0.0, 1.52e-05, ...   \n",
       "1  [0.0027632, 0.0011132, 7.04e-05, 0.0002816, 0....   \n",
       "2  [0.0005828, 0.0004371, 0.0001581, 7.13e-05, 6....   \n",
       "3  [0.026084575999999998, 0.008485343999999999, 0...   \n",
       "4  [0.008516064, 0.007822896000000001, 0.00717924...   \n",
       "\n",
       "                                                  x_  \\\n",
       "0  [555.0, 558.7440273037543, 562.4880546075085, ...   \n",
       "1  [555.0, 558.7440273037543, 562.4880546075085, ...   \n",
       "2  [555.0, 558.7440273037543, 562.4880546075085, ...   \n",
       "3  [555.0, 558.7440273037543, 562.4880546075085, ...   \n",
       "4  [555.0, 558.7440273037543, 562.4880546075085, ...   \n",
       "\n",
       "                                                  y_  \\\n",
       "0  [9.12e-05, 5.56771331058023e-05, 1.85460750853...   \n",
       "1  [0.0008525, 0.00010968464163822446, 0.00026603...   \n",
       "2  [0.00036735, 0.00014195460750853275, 7.0921757...   \n",
       "3  [0.001944558, 0.008181798006825915, 0.01348326...   \n",
       "4  [0.02487978, 0.02097357047098977, 0.0191825625...   \n",
       "\n",
       "                          smiles  \n",
       "0  C1=CC=C(C=C1)OC2=CC=C(C=C2)Cl  \n",
       "1                CCCCC#CCCCCCCCl  \n",
       "2              CCCC(C)(CCC(C)C)O  \n",
       "3                      COC(=O)OC  \n",
       "4                     CCCCC(C)Br  "
      ]
     },
     "execution_count": 61,
     "metadata": {},
     "output_type": "execute_result"
    }
   ],
   "source": [
    "df.head(5)"
   ]
  },
  {
   "cell_type": "code",
   "execution_count": 27,
   "id": "26a75dd9",
   "metadata": {},
   "outputs": [],
   "source": [
    "#hold normalized y values\n",
    "y_n = []\n",
    "#normalize the list of y values for each item\n",
    "for i in df.y_:\n",
    "    yn = [x/max(i) for x in i]\n",
    "    y_n.append(yn)\n"
   ]
  },
  {
   "cell_type": "code",
   "execution_count": 28,
   "id": "a7637233",
   "metadata": {},
   "outputs": [],
   "source": [
    "#add normalized y values to data frame\n",
    "df['y_n'] = y_n"
   ]
  },
  {
   "cell_type": "code",
   "execution_count": 29,
   "id": "121d85be",
   "metadata": {},
   "outputs": [
    {
     "data": {
      "text/html": [
       "<div>\n",
       "<style scoped>\n",
       "    .dataframe tbody tr th:only-of-type {\n",
       "        vertical-align: middle;\n",
       "    }\n",
       "\n",
       "    .dataframe tbody tr th {\n",
       "        vertical-align: top;\n",
       "    }\n",
       "\n",
       "    .dataframe thead th {\n",
       "        text-align: right;\n",
       "    }\n",
       "</style>\n",
       "<table border=\"1\" class=\"dataframe\">\n",
       "  <thead>\n",
       "    <tr style=\"text-align: right;\">\n",
       "      <th></th>\n",
       "      <th>jcamp</th>\n",
       "      <th>x</th>\n",
       "      <th>y</th>\n",
       "      <th>x_</th>\n",
       "      <th>y_</th>\n",
       "      <th>y_n</th>\n",
       "      <th>smiles</th>\n",
       "    </tr>\n",
       "  </thead>\n",
       "  <tbody>\n",
       "    <tr>\n",
       "      <th>3355</th>\n",
       "      <td>{'title': '.alpha.-Methylcinnamic acid', 'jcam...</td>\n",
       "      <td>[549.759, 551.688, 553.617, 555.546, 557.475, ...</td>\n",
       "      <td>[0.03804, 0.040990000000000006, 0.04553, 0.051...</td>\n",
       "      <td>[555.0, 558.7440273037543, 562.4880546075085, ...</td>\n",
       "      <td>[0.049982270606531806, 0.06410321785147473, 0....</td>\n",
       "      <td>[0.11463140098947816, 0.14701696383693277, 0.1...</td>\n",
       "      <td>CC(=CC1=CC=CC=C1)C(=O)O</td>\n",
       "    </tr>\n",
       "    <tr>\n",
       "      <th>7382</th>\n",
       "      <td>{'title': '2-Chloro-5-methoxybenzimidazole', '...</td>\n",
       "      <td>[549.759, 551.688, 553.617, 555.546, 557.475, ...</td>\n",
       "      <td>[0.003601, 0.003301, 0.003391, 0.003161, 0.002...</td>\n",
       "      <td>[555.0, 558.7440273037543, 562.4880546075085, ...</td>\n",
       "      <td>[0.0032261010886469703, 0.0026559949132780236,...</td>\n",
       "      <td>[0.05451516473555672, 0.04488142071669491, 0.0...</td>\n",
       "      <td>COC1=CC2=C(C=C1)N=C(N2)Cl</td>\n",
       "    </tr>\n",
       "    <tr>\n",
       "      <th>197</th>\n",
       "      <td>{'title': '3'-Methoxyacetophenone', 'jcamp-dx'...</td>\n",
       "      <td>[550.0, 554.0, 558.0, 562.0, 566.0, 570.0, 574...</td>\n",
       "      <td>[0.0008008, 0.0016128, 0.0017584, 0.002212, 0....</td>\n",
       "      <td>[555.0, 558.7440273037543, 562.4880546075085, ...</td>\n",
       "      <td>[0.0016492, 0.0018427726962457322, 0.002255729...</td>\n",
       "      <td>[0.029459619621526587, 0.03291740400214299, 0....</td>\n",
       "      <td>CC(=O)C1=CC(=CC=C1)OC</td>\n",
       "    </tr>\n",
       "    <tr>\n",
       "      <th>6302</th>\n",
       "      <td>{'title': 'Adipoyl dichloride', 'jcamp-dx': 4....</td>\n",
       "      <td>[550.0, 554.0, 558.0, 562.0, 566.0, 570.0, 574...</td>\n",
       "      <td>[0.00705, 0.0052546, 0.0048316, 0.0068902, 0.0...</td>\n",
       "      <td>[555.0, 558.7440273037543, 562.4880546075085, ...</td>\n",
       "      <td>[0.00514885, 0.005214513651877126, 0.007051916...</td>\n",
       "      <td>[0.05513447962977042, 0.05583761358722417, 0.0...</td>\n",
       "      <td>C(CCC(=O)Cl)CC(=O)Cl</td>\n",
       "    </tr>\n",
       "    <tr>\n",
       "      <th>1045</th>\n",
       "      <td>{'title': 'Heptanoic acid, ethyl ester', 'jcam...</td>\n",
       "      <td>[450.0, 454.0, 458.0, 462.0, 466.0, 470.0, 474...</td>\n",
       "      <td>[0.026512692, 0.04204656, 0.011037222, 0.02470...</td>\n",
       "      <td>[555.0, 558.7440273037543, 562.4880546075085, ...</td>\n",
       "      <td>[0.013694330999999999, 0.01263938009897607, 0....</td>\n",
       "      <td>[0.023558445232105128, 0.02174360644776932, 0....</td>\n",
       "      <td>CCCCCCC(=O)OCC</td>\n",
       "    </tr>\n",
       "    <tr>\n",
       "      <th>7390</th>\n",
       "      <td>{'title': 'Benzeneacetic acid, phenylmethyl es...</td>\n",
       "      <td>[450.0, 454.0, 458.0, 462.0, 466.0, 470.0, 474...</td>\n",
       "      <td>[0.01791741, 0.01573236, 0.018179616, 0.015994...</td>\n",
       "      <td>[555.0, 558.7440273037543, 562.4880546075085, ...</td>\n",
       "      <td>[0.0324479925, 0.03875652269283285, 0.02542115...</td>\n",
       "      <td>[0.038079515696439276, 0.04548292515233826, 0....</td>\n",
       "      <td>C1=CC=C(C=C1)CC(=O)OCC2=CC=CC=C2</td>\n",
       "    </tr>\n",
       "    <tr>\n",
       "      <th>2864</th>\n",
       "      <td>{'title': '4-Nitrophenyl palmitate', 'jcamp-dx...</td>\n",
       "      <td>[549.863, 551.7923000000001, 553.7216000000001...</td>\n",
       "      <td>[0.0004587, 0.00042070000000000003, 0.0004653,...</td>\n",
       "      <td>[555.0, 558.7440273037543, 562.4880546075085, ...</td>\n",
       "      <td>[0.0005226169543357689, 0.0006125899039404734,...</td>\n",
       "      <td>[0.026461085938062838, 0.031016586734275983, 0...</td>\n",
       "      <td>CCCCCCCCCCCCCCCC(=O)OC1=CC=C(C=C1)[N+](=O)[O-]</td>\n",
       "    </tr>\n",
       "    <tr>\n",
       "      <th>4540</th>\n",
       "      <td>{'title': '2-Ethylpyridine', 'jcamp-dx': 4.24,...</td>\n",
       "      <td>[550.0, 554.0, 558.0, 562.0, 566.0, 570.0, 574...</td>\n",
       "      <td>[0.0003857, 0.00039549999999999996, 0.00046689...</td>\n",
       "      <td>[555.0, 558.7440273037543, 562.4880546075085, ...</td>\n",
       "      <td>[0.00041334999999999994, 0.0004814829351535833...</td>\n",
       "      <td>[0.0597774435435591, 0.06963062531348847, 0.08...</td>\n",
       "      <td>CCC1=CC=CC=N1</td>\n",
       "    </tr>\n",
       "    <tr>\n",
       "      <th>1100</th>\n",
       "      <td>{'title': '.beta.-Chlorostyrene', 'jcamp-dx': ...</td>\n",
       "      <td>[549.759, 551.688, 553.617, 555.546, 557.475, ...</td>\n",
       "      <td>[0.00133, 0.0012396, 0.0009046999999999999, 0....</td>\n",
       "      <td>[555.0, 558.7440273037543, 562.4880546075085, ...</td>\n",
       "      <td>[0.0009273556765163293, 0.0013859327998910131,...</td>\n",
       "      <td>[0.034071718777061735, 0.050920174208866104, 0...</td>\n",
       "      <td>C1=CC=C(C=C1)C=CCl</td>\n",
       "    </tr>\n",
       "    <tr>\n",
       "      <th>4402</th>\n",
       "      <td>{'title': 'Butanoic acid, 3-phenyl-2-propenyl ...</td>\n",
       "      <td>[450.0, 454.0, 458.0, 462.0, 466.0, 470.0, 474...</td>\n",
       "      <td>[0.001167572, 0.006588442, 0.00458689000000000...</td>\n",
       "      <td>[555.0, 558.7440273037543, 562.4880546075085, ...</td>\n",
       "      <td>[0.0262912195, 0.020543232941979538, 0.0181325...</td>\n",
       "      <td>[0.031616774973087416, 0.02470447493492204, 0....</td>\n",
       "      <td>CCCC(=O)OCC=CC1=CC=CC=C1</td>\n",
       "    </tr>\n",
       "  </tbody>\n",
       "</table>\n",
       "</div>"
      ],
      "text/plain": [
       "                                                  jcamp  \\\n",
       "3355  {'title': '.alpha.-Methylcinnamic acid', 'jcam...   \n",
       "7382  {'title': '2-Chloro-5-methoxybenzimidazole', '...   \n",
       "197   {'title': '3'-Methoxyacetophenone', 'jcamp-dx'...   \n",
       "6302  {'title': 'Adipoyl dichloride', 'jcamp-dx': 4....   \n",
       "1045  {'title': 'Heptanoic acid, ethyl ester', 'jcam...   \n",
       "7390  {'title': 'Benzeneacetic acid, phenylmethyl es...   \n",
       "2864  {'title': '4-Nitrophenyl palmitate', 'jcamp-dx...   \n",
       "4540  {'title': '2-Ethylpyridine', 'jcamp-dx': 4.24,...   \n",
       "1100  {'title': '.beta.-Chlorostyrene', 'jcamp-dx': ...   \n",
       "4402  {'title': 'Butanoic acid, 3-phenyl-2-propenyl ...   \n",
       "\n",
       "                                                      x  \\\n",
       "3355  [549.759, 551.688, 553.617, 555.546, 557.475, ...   \n",
       "7382  [549.759, 551.688, 553.617, 555.546, 557.475, ...   \n",
       "197   [550.0, 554.0, 558.0, 562.0, 566.0, 570.0, 574...   \n",
       "6302  [550.0, 554.0, 558.0, 562.0, 566.0, 570.0, 574...   \n",
       "1045  [450.0, 454.0, 458.0, 462.0, 466.0, 470.0, 474...   \n",
       "7390  [450.0, 454.0, 458.0, 462.0, 466.0, 470.0, 474...   \n",
       "2864  [549.863, 551.7923000000001, 553.7216000000001...   \n",
       "4540  [550.0, 554.0, 558.0, 562.0, 566.0, 570.0, 574...   \n",
       "1100  [549.759, 551.688, 553.617, 555.546, 557.475, ...   \n",
       "4402  [450.0, 454.0, 458.0, 462.0, 466.0, 470.0, 474...   \n",
       "\n",
       "                                                      y  \\\n",
       "3355  [0.03804, 0.040990000000000006, 0.04553, 0.051...   \n",
       "7382  [0.003601, 0.003301, 0.003391, 0.003161, 0.002...   \n",
       "197   [0.0008008, 0.0016128, 0.0017584, 0.002212, 0....   \n",
       "6302  [0.00705, 0.0052546, 0.0048316, 0.0068902, 0.0...   \n",
       "1045  [0.026512692, 0.04204656, 0.011037222, 0.02470...   \n",
       "7390  [0.01791741, 0.01573236, 0.018179616, 0.015994...   \n",
       "2864  [0.0004587, 0.00042070000000000003, 0.0004653,...   \n",
       "4540  [0.0003857, 0.00039549999999999996, 0.00046689...   \n",
       "1100  [0.00133, 0.0012396, 0.0009046999999999999, 0....   \n",
       "4402  [0.001167572, 0.006588442, 0.00458689000000000...   \n",
       "\n",
       "                                                     x_  \\\n",
       "3355  [555.0, 558.7440273037543, 562.4880546075085, ...   \n",
       "7382  [555.0, 558.7440273037543, 562.4880546075085, ...   \n",
       "197   [555.0, 558.7440273037543, 562.4880546075085, ...   \n",
       "6302  [555.0, 558.7440273037543, 562.4880546075085, ...   \n",
       "1045  [555.0, 558.7440273037543, 562.4880546075085, ...   \n",
       "7390  [555.0, 558.7440273037543, 562.4880546075085, ...   \n",
       "2864  [555.0, 558.7440273037543, 562.4880546075085, ...   \n",
       "4540  [555.0, 558.7440273037543, 562.4880546075085, ...   \n",
       "1100  [555.0, 558.7440273037543, 562.4880546075085, ...   \n",
       "4402  [555.0, 558.7440273037543, 562.4880546075085, ...   \n",
       "\n",
       "                                                     y_  \\\n",
       "3355  [0.049982270606531806, 0.06410321785147473, 0....   \n",
       "7382  [0.0032261010886469703, 0.0026559949132780236,...   \n",
       "197   [0.0016492, 0.0018427726962457322, 0.002255729...   \n",
       "6302  [0.00514885, 0.005214513651877126, 0.007051916...   \n",
       "1045  [0.013694330999999999, 0.01263938009897607, 0....   \n",
       "7390  [0.0324479925, 0.03875652269283285, 0.02542115...   \n",
       "2864  [0.0005226169543357689, 0.0006125899039404734,...   \n",
       "4540  [0.00041334999999999994, 0.0004814829351535833...   \n",
       "1100  [0.0009273556765163293, 0.0013859327998910131,...   \n",
       "4402  [0.0262912195, 0.020543232941979538, 0.0181325...   \n",
       "\n",
       "                                                    y_n  \\\n",
       "3355  [0.11463140098947816, 0.14701696383693277, 0.1...   \n",
       "7382  [0.05451516473555672, 0.04488142071669491, 0.0...   \n",
       "197   [0.029459619621526587, 0.03291740400214299, 0....   \n",
       "6302  [0.05513447962977042, 0.05583761358722417, 0.0...   \n",
       "1045  [0.023558445232105128, 0.02174360644776932, 0....   \n",
       "7390  [0.038079515696439276, 0.04548292515233826, 0....   \n",
       "2864  [0.026461085938062838, 0.031016586734275983, 0...   \n",
       "4540  [0.0597774435435591, 0.06963062531348847, 0.08...   \n",
       "1100  [0.034071718777061735, 0.050920174208866104, 0...   \n",
       "4402  [0.031616774973087416, 0.02470447493492204, 0....   \n",
       "\n",
       "                                              smiles  \n",
       "3355                         CC(=CC1=CC=CC=C1)C(=O)O  \n",
       "7382                       COC1=CC2=C(C=C1)N=C(N2)Cl  \n",
       "197                            CC(=O)C1=CC(=CC=C1)OC  \n",
       "6302                            C(CCC(=O)Cl)CC(=O)Cl  \n",
       "1045                                  CCCCCCC(=O)OCC  \n",
       "7390                C1=CC=C(C=C1)CC(=O)OCC2=CC=CC=C2  \n",
       "2864  CCCCCCCCCCCCCCCC(=O)OC1=CC=C(C=C1)[N+](=O)[O-]  \n",
       "4540                                   CCC1=CC=CC=N1  \n",
       "1100                              C1=CC=C(C=C1)C=CCl  \n",
       "4402                        CCCC(=O)OCC=CC1=CC=CC=C1  "
      ]
     },
     "execution_count": 29,
     "metadata": {},
     "output_type": "execute_result"
    }
   ],
   "source": [
    "df.sample(10)"
   ]
  },
  {
   "cell_type": "code",
   "execution_count": 30,
   "id": "30ff088f",
   "metadata": {},
   "outputs": [],
   "source": [
    "df.to_json('data.json', orient='records')"
   ]
  },
  {
   "cell_type": "code",
   "execution_count": 78,
   "id": "77d280e2",
   "metadata": {},
   "outputs": [],
   "source": [
    "df.to_csv('dataWithNormY.csv', index=False)"
   ]
  },
  {
   "cell_type": "code",
   "execution_count": 81,
   "id": "f37b12e0",
   "metadata": {},
   "outputs": [
    {
     "data": {
      "text/plain": [
       "[<matplotlib.lines.Line2D at 0x1504174f0>]"
      ]
     },
     "execution_count": 81,
     "metadata": {},
     "output_type": "execute_result"
    },
    {
     "data": {
      "image/png": "[encoded data removed]",
      "text/plain": [
       "<Figure size 640x480 with 1 Axes>"
      ]
     },
     "metadata": {},
     "output_type": "display_data"
    }
   ],
   "source": [
    "#visualizing a spectrum after normalization and resampling\n",
    "plt.plot(df.x_[10],df.y_n[10])"
   ]
  },
  {
   "cell_type": "code",
   "execution_count": 5,
   "id": "d1c22c92",
   "metadata": {},
   "outputs": [
    {
     "data": {
      "text/plain": [
       "550.0"
      ]
     },
     "execution_count": 5,
     "metadata": {},
     "output_type": "execute_result"
    }
   ],
   "source": [
    "parsedJcamps[0]['x'][0]"
   ]
  },
  {
   "cell_type": "code",
   "execution_count": null,
   "id": "e78fdaf8",
   "metadata": {},
   "outputs": [],
   "source": []
  }
 ],
 "metadata": {
  "kernelspec": {
   "display_name": "Python 3 (ipykernel)",
   "language": "python",
   "name": "python3"
  },
  "language_info": {
   "codemirror_mode": {
    "name": "ipython",
    "version": 3
   },
   "file_extension": ".py",
   "mimetype": "text/x-python",
   "name": "python",
   "nbconvert_exporter": "python",
   "pygments_lexer": "ipython3",
   "version": "3.9.16"
  }
 },
 "nbformat": 4,
 "nbformat_minor": 5
}
