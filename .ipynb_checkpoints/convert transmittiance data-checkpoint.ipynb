{
 "cells": [
  {
   "cell_type": "code",
   "execution_count": 1,
   "id": "af500830",
   "metadata": {},
   "outputs": [],
   "source": [
    "import jcamp\n",
    "import glob\n",
    "import os\n",
    "import numpy as np\n",
    "import pandas as pd\n",
    "import pubchempy as pcp\n",
    "from getInchi import getInchi\n",
    "import matplotlib.pyplot as plt"
   ]
  },
  {
   "cell_type": "code",
   "execution_count": 2,
   "id": "4772ece0",
   "metadata": {},
   "outputs": [],
   "source": [
    "path = os.path.join(os.getcwd(), 'scrapedFTIR', 'ir','badUnits')\n",
    "    \n",
    "extension = 'jdx'\n",
    "all_files = glob.glob(os.path.join(path, \"*.jdx\"))\n",
    "\n",
    "parsedJcamps = []\n",
    "for file in all_files:\n",
    "    parsedJcamps.append(jcamp.jcamp_readfile(file))\n",
    "\n",
    "tJcamps = []\n",
    "for jcamp in parsedJcamps:\n",
    "    wavenumbers = jcamp.get('x_units', r'N\\A').lower() != 'micrometers'\n",
    "    if wavenumbers == True:\n",
    "        tJcamps.append(jcamp)"
   ]
  },
  {
   "cell_type": "code",
   "execution_count": 4,
   "id": "adda7b64",
   "metadata": {},
   "outputs": [],
   "source": [
    "#create dataframe holding all of the parsed jcamps\n",
    "df = pd.DataFrame({'jcamp': tJcamps})\n",
    "#add x arrays to dataframe\n",
    "x_list = []\n",
    "for i in df.jcamp:\n",
    "    x_list.append(i['x'])\n",
    "df['x'] = x_list\n",
    "#add y values to dataframe\n",
    "y_list = []\n",
    "for i in df.jcamp:\n",
    "    y_list.append(i['y'])\n",
    "df['y'] = y_list\n",
    "\n"
   ]
  },
  {
   "cell_type": "code",
   "execution_count": 35,
   "id": "267e18ff",
   "metadata": {},
   "outputs": [
    {
     "data": {
      "text/html": [
       "<div>\n",
       "<style scoped>\n",
       "    .dataframe tbody tr th:only-of-type {\n",
       "        vertical-align: middle;\n",
       "    }\n",
       "\n",
       "    .dataframe tbody tr th {\n",
       "        vertical-align: top;\n",
       "    }\n",
       "\n",
       "    .dataframe thead th {\n",
       "        text-align: right;\n",
       "    }\n",
       "</style>\n",
       "<table border=\"1\" class=\"dataframe\">\n",
       "  <thead>\n",
       "    <tr style=\"text-align: right;\">\n",
       "      <th></th>\n",
       "      <th>jcamp</th>\n",
       "      <th>x</th>\n",
       "      <th>y</th>\n",
       "      <th>x_</th>\n",
       "    </tr>\n",
       "  </thead>\n",
       "  <tbody>\n",
       "    <tr>\n",
       "      <th>0</th>\n",
       "      <td>{'title': 'p-XENYLTRICHLOROSILANE', 'jcamp-dx'...</td>\n",
       "      <td>[232.22, 233.1573186, 234.0946372, 235.0319558...</td>\n",
       "      <td>[0.846, 0.846, 0.846, 0.846, 0.846, 0.846, 0.8...</td>\n",
       "      <td>[555.0, 558.7440273037543, 562.4880546075085, ...</td>\n",
       "    </tr>\n",
       "    <tr>\n",
       "      <th>1</th>\n",
       "      <td>{'title': 'ADENOSINE, N,N-DIMETHYL-', 'jcamp-d...</td>\n",
       "      <td>[255.977, 257.785503, 259.59400600000004, 261....</td>\n",
       "      <td>[0.299, 0.306, 0.313, 0.314, 0.32, 0.325, 0.33...</td>\n",
       "      <td>[555.0, 558.7440273037543, 562.4880546075085, ...</td>\n",
       "    </tr>\n",
       "    <tr>\n",
       "      <th>2</th>\n",
       "      <td>{'title': 'p-BENZYLAMINOPHENOL', 'jcamp-dx': 4...</td>\n",
       "      <td>[2.019, 2.0252002, 2.0314004, 2.0376006, 2.043...</td>\n",
       "      <td>[0.446, 0.447, 0.447, 0.449, 0.451, 0.452, 0.4...</td>\n",
       "      <td>[555.0, 558.7440273037543, 562.4880546075085, ...</td>\n",
       "    </tr>\n",
       "    <tr>\n",
       "      <th>3</th>\n",
       "      <td>{'title': '1,4-BIS-(2-HYDROXYPROPYL)-2-METHYLP...</td>\n",
       "      <td>[627.0, 628.0, 629.0, 630.0, 631.0, 632.0, 633...</td>\n",
       "      <td>[0.7073, 0.7061, 0.7049, 0.7037, 0.7039, 0.706...</td>\n",
       "      <td>[555.0, 558.7440273037543, 562.4880546075085, ...</td>\n",
       "    </tr>\n",
       "    <tr>\n",
       "      <th>4</th>\n",
       "      <td>{'title': 'BENZOIC ANHYDRIDE', 'jcamp-dx': 4.2...</td>\n",
       "      <td>[596.136, 596.7799744, 597.4239488, 598.067923...</td>\n",
       "      <td>[0.851, 0.849, 0.849, 0.848, 0.847, 0.846, 0.8...</td>\n",
       "      <td>[555.0, 558.7440273037543, 562.4880546075085, ...</td>\n",
       "    </tr>\n",
       "    <tr>\n",
       "      <th>5</th>\n",
       "      <td>{'title': 'P-PHTHALALDEHYDE 2,4-DINITROPHENYL ...</td>\n",
       "      <td>[2.034, 2.0407813999999997, 2.0475627999999997...</td>\n",
       "      <td>[0.237, 0.24, 0.242, 0.242, 0.247, 0.247, 0.24...</td>\n",
       "      <td>[555.0, 558.7440273037543, 562.4880546075085, ...</td>\n",
       "    </tr>\n",
       "    <tr>\n",
       "      <th>6</th>\n",
       "      <td>{'title': 'Aniline, p-tert-butyl-N-methyl-', '...</td>\n",
       "      <td>[623.830318, 624.8166150000001, 625.802912, 62...</td>\n",
       "      <td>[0.8423, 0.8411, 0.8397, 0.8377, 0.835, 0.8319...</td>\n",
       "      <td>[555.0, 558.7440273037543, 562.4880546075085, ...</td>\n",
       "    </tr>\n",
       "  </tbody>\n",
       "</table>\n",
       "</div>"
      ],
      "text/plain": [
       "                                               jcamp  \\\n",
       "0  {'title': 'p-XENYLTRICHLOROSILANE', 'jcamp-dx'...   \n",
       "1  {'title': 'ADENOSINE, N,N-DIMETHYL-', 'jcamp-d...   \n",
       "2  {'title': 'p-BENZYLAMINOPHENOL', 'jcamp-dx': 4...   \n",
       "3  {'title': '1,4-BIS-(2-HYDROXYPROPYL)-2-METHYLP...   \n",
       "4  {'title': 'BENZOIC ANHYDRIDE', 'jcamp-dx': 4.2...   \n",
       "5  {'title': 'P-PHTHALALDEHYDE 2,4-DINITROPHENYL ...   \n",
       "6  {'title': 'Aniline, p-tert-butyl-N-methyl-', '...   \n",
       "\n",
       "                                                   x  \\\n",
       "0  [232.22, 233.1573186, 234.0946372, 235.0319558...   \n",
       "1  [255.977, 257.785503, 259.59400600000004, 261....   \n",
       "2  [2.019, 2.0252002, 2.0314004, 2.0376006, 2.043...   \n",
       "3  [627.0, 628.0, 629.0, 630.0, 631.0, 632.0, 633...   \n",
       "4  [596.136, 596.7799744, 597.4239488, 598.067923...   \n",
       "5  [2.034, 2.0407813999999997, 2.0475627999999997...   \n",
       "6  [623.830318, 624.8166150000001, 625.802912, 62...   \n",
       "\n",
       "                                                   y  \\\n",
       "0  [0.846, 0.846, 0.846, 0.846, 0.846, 0.846, 0.8...   \n",
       "1  [0.299, 0.306, 0.313, 0.314, 0.32, 0.325, 0.33...   \n",
       "2  [0.446, 0.447, 0.447, 0.449, 0.451, 0.452, 0.4...   \n",
       "3  [0.7073, 0.7061, 0.7049, 0.7037, 0.7039, 0.706...   \n",
       "4  [0.851, 0.849, 0.849, 0.848, 0.847, 0.846, 0.8...   \n",
       "5  [0.237, 0.24, 0.242, 0.242, 0.247, 0.247, 0.24...   \n",
       "6  [0.8423, 0.8411, 0.8397, 0.8377, 0.835, 0.8319...   \n",
       "\n",
       "                                                  x_  \n",
       "0  [555.0, 558.7440273037543, 562.4880546075085, ...  \n",
       "1  [555.0, 558.7440273037543, 562.4880546075085, ...  \n",
       "2  [555.0, 558.7440273037543, 562.4880546075085, ...  \n",
       "3  [555.0, 558.7440273037543, 562.4880546075085, ...  \n",
       "4  [555.0, 558.7440273037543, 562.4880546075085, ...  \n",
       "5  [555.0, 558.7440273037543, 562.4880546075085, ...  \n",
       "6  [555.0, 558.7440273037543, 562.4880546075085, ...  "
      ]
     },
     "execution_count": 35,
     "metadata": {},
     "output_type": "execute_result"
    }
   ],
   "source": [
    "df.head(7)"
   ]
  },
  {
   "cell_type": "code",
   "execution_count": 7,
   "id": "78bc2f7a",
   "metadata": {},
   "outputs": [],
   "source": [
    "# define the new x values you want to resample to\n",
    "new_x = np.linspace(555, 3846, num=880)\n",
    "\n",
    "#add new x values to dataframe\n",
    "new_x_list = []\n",
    "for i in range(0,len(df)):\n",
    "    new_x_list.append(new_x)\n",
    "df['x_'] = new_x_list\n"
   ]
  },
  {
   "cell_type": "code",
   "execution_count": 49,
   "id": "088a98a8",
   "metadata": {},
   "outputs": [
    {
     "ename": "IndexError",
     "evalue": "list index out of range",
     "output_type": "error",
     "traceback": [
      "\u001b[0;31m---------------------------------------------------------------------------\u001b[0m",
      "\u001b[0;31mIndexError\u001b[0m                                Traceback (most recent call last)",
      "Cell \u001b[0;32mIn[49], line 4\u001b[0m\n\u001b[1;32m      2\u001b[0m \u001b[38;5;28;01mfor\u001b[39;00m i \u001b[38;5;129;01min\u001b[39;00m df\u001b[38;5;241m.\u001b[39mx:\n\u001b[1;32m      3\u001b[0m     ls \u001b[38;5;241m=\u001b[39m \u001b[38;5;28mlist\u001b[39m(i)\n\u001b[0;32m----> 4\u001b[0m     \u001b[38;5;28;01mif\u001b[39;00m \u001b[43mls\u001b[49m\u001b[43m[\u001b[49m\u001b[38;5;241;43m0\u001b[39;49m\u001b[43m]\u001b[49m \u001b[38;5;241m<\u001b[39m \u001b[38;5;241m200\u001b[39m:\n\u001b[1;32m      5\u001b[0m         mask\u001b[38;5;241m.\u001b[39mappend(\u001b[38;5;28;01mFalse\u001b[39;00m)\n\u001b[1;32m      6\u001b[0m     \u001b[38;5;28;01melse\u001b[39;00m:\n",
      "\u001b[0;31mIndexError\u001b[0m: list index out of range"
     ]
    }
   ],
   "source": [
    "ls = list(df.x)\n"
   ]
  },
  {
   "cell_type": "code",
   "execution_count": 41,
   "id": "9010c587",
   "metadata": {},
   "outputs": [
    {
     "data": {
      "text/plain": [
       "False"
      ]
     },
     "execution_count": 41,
     "metadata": {},
     "output_type": "execute_result"
    }
   ],
   "source": [
    "mask[0]"
   ]
  },
  {
   "cell_type": "code",
   "execution_count": null,
   "id": "d2eed022",
   "metadata": {},
   "outputs": [],
   "source": [
    "# use numpy's interp function to interpolate the y values based on the new x values\n",
    "y_ = []\n",
    "for i in range(0,len(df)):\n",
    "    y_.append(np.interp(new_x,df.x[i],df.y[i]))\n",
    "#add new y to dataframe\n",
    "df['y_'] = y_"
   ]
  }
 ],
 "metadata": {
  "kernelspec": {
   "display_name": "Python 3 (ipykernel)",
   "language": "python",
   "name": "python3"
  },
  "language_info": {
   "codemirror_mode": {
    "name": "ipython",
    "version": 3
   },
   "file_extension": ".py",
   "mimetype": "text/x-python",
   "name": "python",
   "nbconvert_exporter": "python",
   "pygments_lexer": "ipython3",
   "version": "3.9.16"
  }
 },
 "nbformat": 4,
 "nbformat_minor": 5
}
